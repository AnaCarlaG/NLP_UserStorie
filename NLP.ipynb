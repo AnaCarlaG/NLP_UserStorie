{
  "nbformat": 4,
  "nbformat_minor": 0,
  "metadata": {
    "colab": {
      "name": "NLP.ipynb",
      "provenance": [],
      "collapsed_sections": []
    },
    "kernelspec": {
      "name": "python3",
      "display_name": "Python 3"
    },
    "language_info": {
      "name": "python"
    }
  },
  "cells": [
    {
      "cell_type": "markdown",
      "metadata": {
        "id": "yJDmhOAQGuEu"
      },
      "source": [
        "## Instalação das bibliotecas"
      ]
    },
    {
      "cell_type": "code",
      "metadata": {
        "id": "sp1LrHPuGeOY"
      },
      "source": [
        "%pip install texthero"
      ],
      "execution_count": null,
      "outputs": []
    },
    {
      "cell_type": "markdown",
      "metadata": {
        "id": "ZcD1DB8RG1IH"
      },
      "source": [
        "## Imports"
      ]
    },
    {
      "cell_type": "code",
      "metadata": {
        "id": "5UGfCF1GnpNl"
      },
      "source": [
        "import pandas as pd\n",
        "import texthero as hero\n",
        "import nltk\n",
        "import numpy as np"
      ],
      "execution_count": null,
      "outputs": []
    },
    {
      "cell_type": "code",
      "metadata": {
        "colab": {
          "base_uri": "https://localhost:8080/"
        },
        "id": "jZ36hq0OFGHP",
        "outputId": "1bf8302f-5af8-42f5-e72e-27b36a3f3149"
      },
      "source": [
        "import glob\n",
        "listaArquivos = glob.glob(\"/content/drive/MyDrive/TCC/User_Stories/*.txt\")\n",
        "\n",
        "listaArquivosOrdenado = sorted(listaArquivos)\n",
        "print(listaArquivosOrdenado);"
      ],
      "execution_count": null,
      "outputs": [
        {
          "output_type": "stream",
          "text": [
            "['/content/drive/MyDrive/TCC/User_Stories/Atividade 3.txt', '/content/drive/MyDrive/TCC/User_Stories/Criar Nova Senha Usuário.txt', '/content/drive/MyDrive/TCC/User_Stories/Laudo Médico.txt', '/content/drive/MyDrive/TCC/User_Stories/Login Usuário.txt', '/content/drive/MyDrive/TCC/User_Stories/Pedido de exame.txt', '/content/drive/MyDrive/TCC/User_Stories/Registro de exame.txt', '/content/drive/MyDrive/TCC/User_Stories/Seleção de Laudo Médico.txt', '/content/drive/MyDrive/TCC/User_Stories/Solicitar Recuperação de Senha Usuário.txt', '/content/drive/MyDrive/TCC/User_Stories/Validação de Laudo Médico.txt', '/content/drive/MyDrive/TCC/User_Stories/acesso aos prontuários(professor).txt', '/content/drive/MyDrive/TCC/User_Stories/cadastrar médicos (funcionário).txt', '/content/drive/MyDrive/TCC/User_Stories/cadastrar no sistema para obter acesso.txt', '/content/drive/MyDrive/TCC/User_Stories/emitir laudos para o professor (residente).txt', '/content/drive/MyDrive/TCC/User_Stories/entrar no sistema (residente).txt', '/content/drive/MyDrive/TCC/User_Stories/entrar no sistema(funcionário).txt', '/content/drive/MyDrive/TCC/User_Stories/entrar no sistema(médico).txt', '/content/drive/MyDrive/TCC/User_Stories/escrever o laudo para atender a solicitação (residente).txt', '/content/drive/MyDrive/TCC/User_Stories/laudos emitidos pelos residentes(professor).txt', '/content/drive/MyDrive/TCC/User_Stories/marcar exames(paciente).txt', '/content/drive/MyDrive/TCC/User_Stories/obter laudo de exame(paciente).txt', '/content/drive/MyDrive/TCC/User_Stories/obter laudo de exame(professor).txt', '/content/drive/MyDrive/TCC/User_Stories/prontuario medico(paciente).txt', '/content/drive/MyDrive/TCC/User_Stories/realizar exames para assim disponibilizar um diagnóstico(médico).txt', '/content/drive/MyDrive/TCC/User_Stories/revisar laudo médico(residente).txt', '/content/drive/MyDrive/TCC/User_Stories/solicitar exame(médico).txt', '/content/drive/MyDrive/TCC/User_Stories/solicitar exames(médico).txt', '/content/drive/MyDrive/TCC/User_Stories/solicitar exames(professor).txt', '/content/drive/MyDrive/TCC/User_Stories/visualizar laudos(médico).txt']\n"
          ],
          "name": "stdout"
        }
      ]
    },
    {
      "cell_type": "code",
      "metadata": {
        "id": "E-InC8LBGob_"
      },
      "source": [
        "userStories = []\n",
        "\n",
        "for caminho in listaArquivosOrdenado:\n",
        "  arquivo = open(caminho, \"r\")\n",
        "  storie = arquivo.readlines()\n",
        "  stringVazia = \"\"\n",
        "  for st in storie:\n",
        "    stringVazia+=st\n",
        "  userStories.append(stringVazia)"
      ],
      "execution_count": null,
      "outputs": []
    },
    {
      "cell_type": "code",
      "metadata": {
        "id": "V4B70EZUoEff"
      },
      "source": [
        "user = pd.DataFrame({'Historia de usuario': userStories})\n",
        "\n",
        "user['Historia de usuario'] = user['Historia de usuario'].apply(lambda x: x.lower())"
      ],
      "execution_count": null,
      "outputs": []
    },
    {
      "cell_type": "code",
      "metadata": {
        "id": "-c4Eax1SIg0p",
        "colab": {
          "base_uri": "https://localhost:8080/",
          "height": 200
        },
        "outputId": "66347799-bfd5-428b-dee8-d9359a9e3734"
      },
      "source": [
        "user.head()"
      ],
      "execution_count": null,
      "outputs": [
        {
          "output_type": "execute_result",
          "data": {
            "text/html": [
              "<div>\n",
              "<style scoped>\n",
              "    .dataframe tbody tr th:only-of-type {\n",
              "        vertical-align: middle;\n",
              "    }\n",
              "\n",
              "    .dataframe tbody tr th {\n",
              "        vertical-align: top;\n",
              "    }\n",
              "\n",
              "    .dataframe thead th {\n",
              "        text-align: right;\n",
              "    }\n",
              "</style>\n",
              "<table border=\"1\" class=\"dataframe\">\n",
              "  <thead>\n",
              "    <tr style=\"text-align: right;\">\n",
              "      <th></th>\n",
              "      <th>Historia de usuario</th>\n",
              "    </tr>\n",
              "  </thead>\n",
              "  <tbody>\n",
              "    <tr>\n",
              "      <th>0</th>\n",
              "      <td>﻿como administrador do sistema quero poder rea...</td>\n",
              "    </tr>\n",
              "    <tr>\n",
              "      <th>1</th>\n",
              "      <td>﻿criar nova senha\\nimportância \\n        dific...</td>\n",
              "    </tr>\n",
              "    <tr>\n",
              "      <th>2</th>\n",
              "      <td>﻿após o registro de um exame, um laudo médico ...</td>\n",
              "    </tr>\n",
              "    <tr>\n",
              "      <th>3</th>\n",
              "      <td>﻿como usuário quero fazer login para ter acess...</td>\n",
              "    </tr>\n",
              "    <tr>\n",
              "      <th>4</th>\n",
              "      <td>﻿dificuldade: vinte\\ndado que o médico esteja ...</td>\n",
              "    </tr>\n",
              "  </tbody>\n",
              "</table>\n",
              "</div>"
            ],
            "text/plain": [
              "                                 Historia de usuario\n",
              "0  ﻿como administrador do sistema quero poder rea...\n",
              "1  ﻿criar nova senha\\nimportância \\n        dific...\n",
              "2  ﻿após o registro de um exame, um laudo médico ...\n",
              "3  ﻿como usuário quero fazer login para ter acess...\n",
              "4  ﻿dificuldade: vinte\\ndado que o médico esteja ..."
            ]
          },
          "metadata": {
            "tags": []
          },
          "execution_count": 6
        }
      ]
    },
    {
      "cell_type": "code",
      "metadata": {
        "id": "3pQgBpKT8sgW"
      },
      "source": [
        "criterio = [\n",
        "            [0, 1, 0, 0, 1, 1, 1, 1, 0, 1], [0, 1, 0, 1, 0, 1, 1, 1, 1, 1],\n",
        "            [1, 1, 0, 0, 1, 1, 1, 1, 0, 1], [1, 0, 1, 1, 1, 1, 1, 1, 1, 1],\n",
        "            [1, 0, 1, 0, 1, 1, 1, 1, 0, 1], [1, 0, 1, 1, 1, 1, 1, 1, 0, 1],\n",
        "            [1, 0, 1, 0, 1, 1, 1, 1, 0, 1], [0, 1, 0, 1, 0, 0, 1, 1, 0, 0],\n",
        "            [1, 0, 1, 0, 1, 1, 1, 1, 0, 1], [1, 0, 0, 0, 1, 0, 1, 1, 0, 1],\n",
        "            [1, 1, 1, 1, 1, 1, 1, 1, 1, 1], [1, 0, 0, 1, 1, 1, 1, 0, 0, 1],\n",
        "            [1, 0, 1, 0, 1, 1, 1, 0, 0, 1], [1, 0, 1, 1, 0, 1, 1, 1, 0, 1],\n",
        "            [1, 0, 1, 0, 1, 1, 1, 1, 0, 1], [1, 0, 0, 0, 1, 1, 1, 1, 1, 1],\n",
        "            [0, 1, 0, 1, 0, 1, 1, 1, 1, 1], [1, 0, 0, 0, 1, 1, 1, 1, 0, 1],\n",
        "            [1, 1, 0, 0, 1, 1, 1, 1, 0, 1], [1, 0, 1, 1, 1, 1, 1, 1, 1, 1],\n",
        "            [1, 1, 0, 1, 0, 1, 1, 1, 0, 1], [1, 1, 1, 1, 1, 1, 1, 1, 1, 1],\n",
        "            [1, 1, 0, 0, 1, 1, 1, 1, 1, 1], [1, 1, 1, 0, 1, 1, 1, 1, 0, 1],\n",
        "            [0, 1, 0, 0, 1, 1, 1, 1, 0, 1], [1, 0, 1, 0, 1, 1, 1, 0, 1, 1],\n",
        "            [1, 0, 1, 1, 1, 1, 1, 1, 1, 0], [1, 0, 1, 0, 1, 1, 1, 1, 0, 1]]"
      ],
      "execution_count": null,
      "outputs": []
    },
    {
      "cell_type": "markdown",
      "metadata": {
        "id": "yrnm382sHIrW"
      },
      "source": [
        "# Pré Processamento do texto"
      ]
    },
    {
      "cell_type": "code",
      "metadata": {
        "colab": {
          "base_uri": "https://localhost:8080/"
        },
        "id": "N5psTE5znoiJ",
        "outputId": "82291f2f-a93d-43e4-e6fe-a8a3e9c13f01"
      },
      "source": [
        "nltk.download('stopwords')\n",
        "\n",
        "stop = nltk.corpus.stopwords.words('portuguese')\n",
        "user['Historia de usuario'] = hero.remove_stopwords(user['Historia de usuario'], stopwords= stop)"
      ],
      "execution_count": null,
      "outputs": [
        {
          "output_type": "stream",
          "text": [
            "[nltk_data] Downloading package stopwords to /root/nltk_data...\n",
            "[nltk_data]   Package stopwords is already up-to-date!\n"
          ],
          "name": "stderr"
        }
      ]
    },
    {
      "cell_type": "code",
      "metadata": {
        "id": "FmnkE5FgxN1i"
      },
      "source": [
        "from texthero import preprocessing\n",
        "\n",
        "custom_pipeline = [preprocessing.fillna,\n",
        "                   preprocessing.remove_whitespace,\n",
        "                   preprocessing.remove_punctuation,\n",
        "                   preprocessing.remove_urls,\n",
        "                   preprocessing.remove_angle_brackets,\n",
        "                   preprocessing.remove_brackets,\n",
        "                   preprocessing.remove_curly_brackets,\n",
        "                   preprocessing.remove_round_brackets,\n",
        "                   preprocessing.remove_square_brackets,\n",
        "                   preprocessing.remove_digits,\n",
        "                   ]\n",
        "user['Historia de usuario'] = hero.clean(user['Historia de usuario'], custom_pipeline)"
      ],
      "execution_count": null,
      "outputs": []
    },
    {
      "cell_type": "code",
      "metadata": {
        "id": "Fsone8XIr9V7"
      },
      "source": [
        "from unicodedata import normalize\n",
        "\n",
        "class TextUtil :\n",
        " \n",
        "  def removedor_acento_caracterEspecial(self, txt) :\n",
        "     return normalize('NFKD', txt).encode('ASCII', 'ignore').decode('ASCII')\n"
      ],
      "execution_count": null,
      "outputs": []
    },
    {
      "cell_type": "code",
      "metadata": {
        "id": "B2siwj3NrTC8"
      },
      "source": [
        "txtUtil = TextUtil()\n",
        "user['Historia de usuario'] = user.apply(lambda x:  txtUtil.removedor_acento_caracterEspecial(x['Historia de usuario']), axis=1 ) "
      ],
      "execution_count": null,
      "outputs": []
    },
    {
      "cell_type": "code",
      "metadata": {
        "id": "UH2AeLCxgIy6"
      },
      "source": [
        "from sklearn.feature_extraction.text import TfidfVectorizer\n",
        "vectorizer = TfidfVectorizer()\n",
        "X = vectorizer.fit_transform(user['Historia de usuario'])\n"
      ],
      "execution_count": null,
      "outputs": []
    },
    {
      "cell_type": "markdown",
      "metadata": {
        "id": "qvyB059cHRk4"
      },
      "source": [
        "# Preparo da Rede Neural"
      ]
    },
    {
      "cell_type": "code",
      "metadata": {
        "id": "gNHNLGMeSH0h"
      },
      "source": [
        "# Uma rede neural Perceptron Multicamadas\n",
        "from sklearn.neural_network import MLPClassifier\n",
        "\n",
        "from sklearn.model_selection import train_test_split\n",
        "from sklearn.model_selection import cross_val_score"
      ],
      "execution_count": null,
      "outputs": []
    },
    {
      "cell_type": "code",
      "metadata": {
        "colab": {
          "base_uri": "https://localhost:8080/"
        },
        "id": "d8tQ3u5WHQv5",
        "outputId": "cab8b79e-eec8-4a59-e36e-0fff23cf8509"
      },
      "source": [
        "import torch\n",
        "# First checking if GPU is available\n",
        "train_on_gpu=torch.cuda.is_available()\n",
        "\n",
        "if(train_on_gpu):\n",
        "    print('Training on GPU.')\n",
        "else:\n",
        "    print('No GPU available, training on CPU.')"
      ],
      "execution_count": null,
      "outputs": [
        {
          "output_type": "stream",
          "text": [
            "No GPU available, training on CPU.\n"
          ],
          "name": "stdout"
        }
      ]
    },
    {
      "cell_type": "code",
      "metadata": {
        "id": "WhSTfT0CBvR1"
      },
      "source": [
        "X_train, X_test, y_train, y_test = train_test_split(\n",
        "    X, criterio, test_size=0.28, random_state=42)"
      ],
      "execution_count": null,
      "outputs": []
    },
    {
      "cell_type": "code",
      "metadata": {
        "colab": {
          "base_uri": "https://localhost:8080/"
        },
        "id": "-xn9yPnj34mK",
        "outputId": "91982ee7-e244-4421-bf5b-e869c89fbcf3"
      },
      "source": [
        "# 1° modelo\n",
        "#Acurácia: 0.05\n",
        "clf1 = MLPClassifier(solver='lbfgs', alpha=1e-5, hidden_layer_sizes=(70, 70, 100),\n",
        "                     max_iter=400, random_state=1, verbose=True)\n",
        "clf1.fit(X_train, y_train)"
      ],
      "execution_count": null,
      "outputs": [
        {
          "output_type": "execute_result",
          "data": {
            "text/plain": [
              "MLPClassifier(activation='relu', alpha=1e-05, batch_size='auto', beta_1=0.9,\n",
              "              beta_2=0.999, early_stopping=False, epsilon=1e-08,\n",
              "              hidden_layer_sizes=(70, 70, 100), learning_rate='constant',\n",
              "              learning_rate_init=0.001, max_fun=15000, max_iter=400,\n",
              "              momentum=0.9, n_iter_no_change=10, nesterovs_momentum=True,\n",
              "              power_t=0.5, random_state=1, shuffle=True, solver='lbfgs',\n",
              "              tol=0.0001, validation_fraction=0.1, verbose=True,\n",
              "              warm_start=False)"
            ]
          },
          "metadata": {
            "tags": []
          },
          "execution_count": 16
        }
      ]
    },
    {
      "cell_type": "code",
      "metadata": {
        "colab": {
          "base_uri": "https://localhost:8080/"
        },
        "id": "eq2dSGqno24e",
        "outputId": "ac8a55a7-f600-4ee2-9df4-baea47334b78"
      },
      "source": [
        "val_scores = cross_val_score(clf1, X_train, y_train, cv=5)\n",
        "\n",
        "print(\"Accuracy:\", clf1.score(X_test, y_test))\n",
        "print('Acurácia nos k-folds:', val_scores)\n",
        "print('Média: {:.2} | Desvio: {:.2}'.format(np.mean(val_scores), np.std(val_scores)))"
      ],
      "execution_count": null,
      "outputs": [
        {
          "output_type": "stream",
          "text": [
            "Accuracy: 0.125\n",
            "Acurácia nos k-folds: [0.   0.25 0.   0.   0.  ]\n",
            "Média: 0.05 | Desvio: 0.1\n"
          ],
          "name": "stdout"
        }
      ]
    },
    {
      "cell_type": "code",
      "metadata": {
        "colab": {
          "base_uri": "https://localhost:8080/"
        },
        "id": "MOzRgs-PHt6e",
        "outputId": "bae484fe-7a8f-481c-aad9-484785c3c96a"
      },
      "source": [
        "# 2° modelo\n",
        "#Acurácia: 0.1\n",
        "clf2 = MLPClassifier(solver='lbfgs', alpha=1e-5, hidden_layer_sizes=(70, 100, 100),\n",
        "                     max_iter=600,  random_state=1, verbose=True)\n",
        "clf2.fit(X_train, y_train)"
      ],
      "execution_count": null,
      "outputs": [
        {
          "output_type": "execute_result",
          "data": {
            "text/plain": [
              "MLPClassifier(activation='relu', alpha=1e-05, batch_size='auto', beta_1=0.9,\n",
              "              beta_2=0.999, early_stopping=False, epsilon=1e-08,\n",
              "              hidden_layer_sizes=(70, 100, 100), learning_rate='constant',\n",
              "              learning_rate_init=0.001, max_fun=15000, max_iter=600,\n",
              "              momentum=0.9, n_iter_no_change=10, nesterovs_momentum=True,\n",
              "              power_t=0.5, random_state=1, shuffle=True, solver='lbfgs',\n",
              "              tol=0.0001, validation_fraction=0.1, verbose=True,\n",
              "              warm_start=False)"
            ]
          },
          "metadata": {
            "tags": []
          },
          "execution_count": 18
        }
      ]
    },
    {
      "cell_type": "code",
      "metadata": {
        "colab": {
          "base_uri": "https://localhost:8080/"
        },
        "id": "xoQgMxzgo3xC",
        "outputId": "48c386da-25ea-4b53-d3a5-7cb766272d82"
      },
      "source": [
        "val_scores = cross_val_score(clf2, X_train, y_train, cv=5)\n",
        "\n",
        "print(\"Accuracy:\", clf2.score(X_test, y_test))\n",
        "print('Acurácia nos k-folds:', val_scores)\n",
        "print('Média: {:.2} | Desvio: {:.2}'.format(np.mean(val_scores), np.std(val_scores)))"
      ],
      "execution_count": null,
      "outputs": [
        {
          "output_type": "stream",
          "text": [
            "Accuracy: 0.125\n",
            "Acurácia nos k-folds: [0.   0.25 0.25 0.   0.  ]\n",
            "Média: 0.1 | Desvio: 0.12\n"
          ],
          "name": "stdout"
        }
      ]
    },
    {
      "cell_type": "code",
      "metadata": {
        "colab": {
          "base_uri": "https://localhost:8080/"
        },
        "id": "qOdMxS4iTwlJ",
        "outputId": "8baa69ea-5c38-4e9c-d7a5-dcaf284939c1"
      },
      "source": [
        "# 3° modelo\n",
        "#Acurácia: 0.15\n",
        "clf3 = MLPClassifier(solver='lbfgs', alpha=1e-8, hidden_layer_sizes=(70, 100, 100),\n",
        "                     max_iter=700, learning_rate='invscaling', random_state=1, verbose=True)\n",
        "clf3.fit(X_train, y_train)"
      ],
      "execution_count": null,
      "outputs": [
        {
          "output_type": "execute_result",
          "data": {
            "text/plain": [
              "MLPClassifier(activation='relu', alpha=1e-08, batch_size='auto', beta_1=0.9,\n",
              "              beta_2=0.999, early_stopping=False, epsilon=1e-08,\n",
              "              hidden_layer_sizes=(70, 100, 100), learning_rate='invscaling',\n",
              "              learning_rate_init=0.001, max_fun=15000, max_iter=700,\n",
              "              momentum=0.9, n_iter_no_change=10, nesterovs_momentum=True,\n",
              "              power_t=0.5, random_state=1, shuffle=True, solver='lbfgs',\n",
              "              tol=0.0001, validation_fraction=0.1, verbose=True,\n",
              "              warm_start=False)"
            ]
          },
          "metadata": {
            "tags": []
          },
          "execution_count": 20
        }
      ]
    },
    {
      "cell_type": "code",
      "metadata": {
        "colab": {
          "base_uri": "https://localhost:8080/"
        },
        "id": "jfpN3XhJ0cKG",
        "outputId": "77083c0b-bdd4-4480-ec8e-fa3c2520c7be"
      },
      "source": [
        "val_scores = cross_val_score(clf3, X_train, y_train, cv=5)\n",
        "\n",
        "print(\"Accuracy:\", clf3.score(X_test, y_test))\n",
        "print('Acurácia nos k-folds:', val_scores)\n",
        "print('Média: {:.2} | Desvio: {:.2}'.format(np.mean(val_scores), np.std(val_scores)))"
      ],
      "execution_count": null,
      "outputs": [
        {
          "output_type": "stream",
          "text": [
            "Accuracy: 0.125\n",
            "Acurácia nos k-folds: [0.   0.25 0.25 0.   0.25]\n",
            "Média: 0.15 | Desvio: 0.12\n"
          ],
          "name": "stdout"
        }
      ]
    },
    {
      "cell_type": "code",
      "metadata": {
        "colab": {
          "base_uri": "https://localhost:8080/"
        },
        "id": "4_m2yAJWUeP5",
        "outputId": "ec6200b7-f86d-4fc6-c049-c97c4d5a017e"
      },
      "source": [
        "clf1.predict(X_test)"
      ],
      "execution_count": null,
      "outputs": [
        {
          "output_type": "execute_result",
          "data": {
            "text/plain": [
              "array([[1, 0, 1, 1, 1, 1, 1, 1, 0, 1],\n",
              "       [1, 0, 1, 1, 1, 1, 1, 1, 0, 1],\n",
              "       [1, 0, 1, 0, 1, 1, 1, 1, 0, 1],\n",
              "       [1, 0, 1, 0, 1, 1, 1, 1, 0, 1],\n",
              "       [1, 0, 1, 1, 1, 1, 1, 1, 0, 1],\n",
              "       [1, 0, 1, 0, 1, 1, 1, 1, 0, 1],\n",
              "       [1, 0, 1, 1, 1, 1, 1, 1, 0, 1],\n",
              "       [1, 0, 1, 1, 1, 1, 1, 1, 0, 1]])"
            ]
          },
          "metadata": {
            "tags": []
          },
          "execution_count": 22
        }
      ]
    },
    {
      "cell_type": "code",
      "metadata": {
        "id": "trmFQ_BwUlwJ"
      },
      "source": [
        "clf2.predict(X_test)"
      ],
      "execution_count": null,
      "outputs": []
    },
    {
      "cell_type": "code",
      "metadata": {
        "id": "DSxJDss0pqwe"
      },
      "source": [
        "clf3.predict(X_test)"
      ],
      "execution_count": null,
      "outputs": []
    },
    {
      "cell_type": "code",
      "metadata": {
        "colab": {
          "base_uri": "https://localhost:8080/"
        },
        "id": "fCT0XcOIqoWO",
        "outputId": "863a674a-cc9d-4e72-e827-93fa158c88f2"
      },
      "source": [
        "y_test"
      ],
      "execution_count": null,
      "outputs": [
        {
          "output_type": "execute_result",
          "data": {
            "text/plain": [
              "[[1, 0, 0, 0, 1, 0, 1, 1, 0, 1],\n",
              " [1, 0, 1, 0, 1, 1, 1, 0, 1, 1],\n",
              " [1, 0, 1, 0, 1, 1, 1, 1, 0, 1],\n",
              " [1, 1, 1, 1, 1, 1, 1, 1, 1, 1],\n",
              " [0, 1, 0, 0, 1, 1, 1, 1, 0, 1],\n",
              " [1, 0, 1, 0, 1, 1, 1, 0, 0, 1],\n",
              " [1, 0, 0, 0, 1, 1, 1, 1, 0, 1],\n",
              " [1, 1, 0, 0, 1, 1, 1, 1, 1, 1]]"
            ]
          },
          "metadata": {
            "tags": []
          },
          "execution_count": 25
        }
      ]
    }
  ]
}